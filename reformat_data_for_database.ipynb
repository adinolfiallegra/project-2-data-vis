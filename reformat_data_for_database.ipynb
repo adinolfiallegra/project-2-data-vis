{
 "cells": [
  {
   "cell_type": "code",
   "execution_count": 1,
   "metadata": {
    "collapsed": true
   },
   "outputs": [],
   "source": [
    "import pandas as pd\n",
    "from pandas.io.json import json_normalize"
   ]
  },
  {
   "cell_type": "code",
   "execution_count": 2,
   "metadata": {
    "collapsed": true
   },
   "outputs": [],
   "source": [
    "# Here are the account names\n",
    "accounts_list = [\n",
    "    'burberry',\n",
    "    'gucci',\n",
    "    'toryburch',\n",
    "    'michaelkors',\n",
    "    'bananarepublic',\n",
    "    'majeofficiel',\n",
    "    'aliceandolivia',\n",
    "    'coach',\n",
    "    'ferragamo',\n",
    "    'chloe'\n",
    "]"
   ]
  },
  {
   "cell_type": "code",
   "execution_count": null,
   "metadata": {
    "collapsed": true
   },
   "outputs": [],
   "source": [
    "# Create a dataframe for each account\n",
    "# And \n",
    "account_info_df_list = []\n",
    "account_posts_dfs_list = []\n",
    "\n",
    "for account in accounts_list:\n",
    "    \n",
    "    account_dict = json.load(open(f'data/{account}.json'))\n",
    "    account_info_df = pd.io.json.json_normalize(account_dict)\n",
    "    account_info_df_list.append(account_df)\n",
    "    \n",
    "account_dfs_list"
   ]
  }
 ],
 "metadata": {
  "kernelspec": {
   "display_name": "Python 3",
   "language": "python",
   "name": "python3"
  },
  "language_info": {
   "codemirror_mode": {
    "name": "ipython",
    "version": 3
   },
   "file_extension": ".py",
   "mimetype": "text/x-python",
   "name": "python",
   "nbconvert_exporter": "python",
   "pygments_lexer": "ipython3",
   "version": "3.6.3"
  }
 },
 "nbformat": 4,
 "nbformat_minor": 2
}
