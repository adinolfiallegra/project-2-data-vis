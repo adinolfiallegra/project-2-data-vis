{
 "cells": [
  {
   "cell_type": "code",
   "execution_count": 6,
   "metadata": {
    "collapsed": true
   },
   "outputs": [],
   "source": [
    "import json\n",
    "import pandas as pd\n",
    "from pandas.io.json import json_normalize\n",
    "\n",
    "from datetime import datetime"
   ]
  },
  {
   "cell_type": "code",
   "execution_count": 7,
   "metadata": {
    "collapsed": true
   },
   "outputs": [],
   "source": [
    "# Here are the account names\n",
    "accounts_list = [\n",
    "    'burberry',\n",
    "    'gucci',\n",
    "    'toryburch',\n",
    "    'michaelkors',\n",
    "    'bananarepublic',\n",
    "    'majeofficiel',\n",
    "    'aliceandolivia',\n",
    "    'coach',\n",
    "    'ferragamo',\n",
    "    'chloe'\n",
    "]"
   ]
  },
  {
   "cell_type": "code",
   "execution_count": 12,
   "metadata": {},
   "outputs": [],
   "source": [
    "# Make 2 dataframes, one for account info, one for posts\n",
    "\n",
    "# Hold each account's dfs to concat later\n",
    "account_info_df_list = []\n",
    "account_posts_dfs_list = []\n",
    "\n",
    "# Process each account json file\n",
    "for account in accounts_list:\n",
    "    \n",
    "# Load the json file\n",
    "    account_dict = json.load(open(f'data/appended/appended_{account}.json'))\n",
    "    \n",
    "# Store the top-level info in accounts info df\n",
    "\n",
    "    account_info_df = json_normalize(account_dict)\n",
    "    # Trim down the dataframe for only essential columns\n",
    "    account_info_df = account_info_df[[\n",
    "        'account_name', 'follower_count',\n",
    "        'following_count', 'post_count'\n",
    "    ]]\n",
    "    # Add to list to concat later\n",
    "    account_info_df_list.append(account_info_df)\n",
    "    \n",
    "# Make the account posts df from post data list\n",
    "\n",
    "    posts_data_list = account_dict['post_data_list']\n",
    "    account_posts_df = json_normalize(posts_data_list)\n",
    "    \n",
    "    # Add a column for account name to use as key later\n",
    "    account_posts_df['account_name'] = account_dict['account_name']\n",
    "    \n",
    "    # Parse the datetime string to save as datetime object\n",
    "    account_posts_df['post_datetime'] = [\n",
    "        datetime.strptime(each, '%Y-%m-%dT%H:%M:%S.000Z') \\\n",
    "        for each in account_posts_df['post_datetime_str']\n",
    "    ]\n",
    "    # Rearrange columns for easier reading\n",
    "    account_posts_df = account_posts_df[[\n",
    "        'account_name', 'post_datetime', 'post_type',\n",
    "        'like_count', 'view_count',\n",
    "        'has_hashtag', 'hashtag_count', 'has_at', 'at_count',\n",
    "        'post_url'\n",
    "    ]]\n",
    "    \n",
    "    # Add to list ot concat later\n",
    "    account_posts_dfs_list.append(account_posts_df)"
   ]
  },
  {
   "cell_type": "code",
   "execution_count": 15,
   "metadata": {},
   "outputs": [],
   "source": [
    "# Concat the lists to make 2 final dfs\n",
    "all_accounts_info_df = pd.concat(account_info_df_list)\n",
    "all_accounts_posts_df = pd.concat(account_posts_dfs_list)"
   ]
  },
  {
   "cell_type": "code",
   "execution_count": 18,
   "metadata": {},
   "outputs": [],
   "source": [
    "# Save files\n",
    "all_accounts_info_df.to_csv('data/accounts.csv', index=False)\n",
    "all_accounts_posts_df.to_csv('data/posts.csv', index=False)"
   ]
  },
  {
   "cell_type": "code",
   "execution_count": 21,
   "metadata": {
    "collapsed": true
   },
   "outputs": [],
   "source": [
    "# Unify the two dataframes\n",
    "unified_df = all_accounts_posts_df.merge(all_accounts_info_df, \n",
    "                      how='left', on='account_name')"
   ]
  },
  {
   "cell_type": "code",
   "execution_count": 24,
   "metadata": {},
   "outputs": [],
   "source": [
    "unified_df.to_csv('data/posts_with_account.csv', index=False)"
   ]
  },
  {
   "cell_type": "code",
   "execution_count": null,
   "metadata": {
    "collapsed": true
   },
   "outputs": [],
   "source": []
  }
 ],
 "metadata": {
  "kernelspec": {
   "display_name": "Python 3",
   "language": "python",
   "name": "python3"
  },
  "language_info": {
   "codemirror_mode": {
    "name": "ipython",
    "version": 3
   },
   "file_extension": ".py",
   "mimetype": "text/x-python",
   "name": "python",
   "nbconvert_exporter": "python",
   "pygments_lexer": "ipython3",
   "version": "3.6.3"
  }
 },
 "nbformat": 4,
 "nbformat_minor": 2
}
